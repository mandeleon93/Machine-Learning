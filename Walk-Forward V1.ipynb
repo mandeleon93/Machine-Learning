{
 "cells": [
  {
   "cell_type": "markdown",
   "metadata": {},
   "source": [
    "# Walk-Forward Validation\n",
    "\n",
    "Walk-Forward Validation (WFV) is a validation method that tests a forecasting model's ability to predict the future. This is accomplished by splitting up the dataset into smaller chunks of training and test sets. For this specific case, we would like to test how well the models perform in forecasting the next 7 days given a fixed training window. This training window is then moved across the dataset every 7 days to order to test its effectiveness. \n",
    "\n",
    "One of the advantages of WFV is that it tests how well the model predicts future values at multiple time windows within the data. This eliminates the bias possibly surfacing from selecting a single window to validate on: it may under or over perform depending on its behavior."
   ]
  },
  {
   "cell_type": "code",
   "execution_count": 1,
   "metadata": {
    "ExecuteTime": {
     "end_time": "2020-06-08T06:53:28.186938Z",
     "start_time": "2020-06-08T06:53:26.406395Z"
    }
   },
   "outputs": [],
   "source": [
    "import numpy as np\n",
    "import matplotlib.pyplot as plt\n",
    "import seaborn as sns\n",
    "import pandas as pd"
   ]
  },
  {
   "cell_type": "markdown",
   "metadata": {},
   "source": [
    "## Validation Metric\n",
    "\n",
    "In this notebook, we use Median Absolute Percentage Error to evaluate model performance, although other metrics such as RMSE, MAPE, etc. are just as valid. The application of these evaluation metrics varies from case to case."
   ]
  },
  {
   "cell_type": "code",
   "execution_count": 2,
   "metadata": {
    "ExecuteTime": {
     "end_time": "2020-06-08T06:53:28.211847Z",
     "start_time": "2020-06-08T06:53:28.199835Z"
    }
   },
   "outputs": [],
   "source": [
    "def median_absolute_percentage_error(y_true, y_pred):\n",
    "    \"\"\"\n",
    "    Computes MDAPE\n",
    "    \n",
    "    Parameters\n",
    "    ----------\n",
    "    y_true : list\n",
    "    \n",
    "    y_pred : list\n",
    "    \"\"\"\n",
    "    y_true, y_pred = np.array(y_true), np.array(y_pred)\n",
    "    return np.median(np.abs((y_true - y_pred) / y_true)) * 100"
   ]
  },
  {
   "cell_type": "markdown",
   "metadata": {},
   "source": [
    "## General Structure"
   ]
  },
  {
   "cell_type": "code",
   "execution_count": 7,
   "metadata": {
    "ExecuteTime": {
     "end_time": "2020-06-08T06:53:28.619568Z",
     "start_time": "2020-06-08T06:53:28.611590Z"
    }
   },
   "outputs": [],
   "source": [
    "def walk_forward(X, window=120, horizon=7, debug=False):\n",
    "    \"\"\"\n",
    "    Evaluates model performance using walk-forward validation.\n",
    "    \n",
    "    Parameters\n",
    "    ----------\n",
    "    X : numpy array, pandas series\n",
    "        Input array of values for splitting into train-test\n",
    "        \n",
    "    w : int\n",
    "        Size of training window per iteration\n",
    "        \n",
    "    horizon : int\n",
    "        Range of values to forecast\n",
    "        \n",
    "    debug : bool\n",
    "        Set to True if you want to inspect if the data is splitting properly\n",
    "    \"\"\"\n",
    "    \n",
    "    \n",
    "    # no. of loops:\n",
    "    loops = (len(df_all)-window) // 7\n",
    "    \n",
    "    # position tracker\n",
    "    start = 0\n",
    "    end = window\n",
    "    \n",
    "    window = window\n",
    "    horizon = horizon\n",
    "    \n",
    "    train_performance = []\n",
    "    test_performance = []\n",
    "        \n",
    "    for i in range(loops):\n",
    "\n",
    "        train = X[start:end]\n",
    "        test = X[end:end+horizon]\n",
    "        \n",
    "        if len(test) < 7:\n",
    "            break\n",
    "            \n",
    "        # Place any forecasting model here. Note the code may have to change a bit \n",
    "        # depending on what the fit method returns\n",
    "        \n",
    "        # Model Object here\n",
    "        results = model.fit(disp=-1)\n",
    "        \n",
    "        y_fitted = results.fittedvalues\n",
    "        \n",
    "        # Place your validation function here\n",
    "        mdape_train = median_absolute_percentage_error(train[1:], y_fitted)\n",
    "        train_performance.append(mdape_train)\n",
    "        \n",
    "        y_true = np.array(test)\n",
    "        y_pred = results.forecast(7)[0]\n",
    "\n",
    "        mdape_test = median_absolute_percentage_error(y_true, y_pred)\n",
    "        test_performance.append(mdape_test)\n",
    "        \n",
    "        if debug:\n",
    "            print('train')\n",
    "            display(train)\n",
    "            print('test')\n",
    "            display(test)\n",
    "        # break if test data is cut off\n",
    "        \n",
    "        # update and repeat\n",
    "        start += horizon\n",
    "        end += horizon\n",
    "        \n",
    "    train_results_mdape = np.mean(np.array(train_performance))\n",
    "    test_results_mdape = np.mean(np.array(test_performance))\n",
    "        \n",
    "    print(\"total number of forecasts:\", loops)\n",
    "    print(\"Train MdAPE:\", train_results_mdape)\n",
    "    print(\"Test MdAPE:\", test_results_mdape)"
   ]
  },
  {
   "cell_type": "markdown",
   "metadata": {},
   "source": [
    "# Walk-Forward: Seasonal ARIMA\n",
    "\n",
    "Here is an example using Seasonal ARIMA as the forecasting model. "
   ]
  },
  {
   "cell_type": "code",
   "execution_count": 18,
   "metadata": {
    "ExecuteTime": {
     "end_time": "2020-06-08T06:53:34.327395Z",
     "start_time": "2020-06-08T06:53:33.792874Z"
    }
   },
   "outputs": [],
   "source": [
    "import statsmodels.api as sm\n",
    "from statsmodels.tsa.stattools import adfuller\n",
    "from statsmodels.tsa.seasonal import seasonal_decompose\n",
    "from statsmodels.tsa.arima_model import ARIMA\n",
    "from pandas.plotting import register_matplotlib_converters"
   ]
  },
  {
   "cell_type": "code",
   "execution_count": 50,
   "metadata": {
    "ExecuteTime": {
     "end_time": "2020-06-08T07:25:07.351999Z",
     "start_time": "2020-06-08T07:25:07.342021Z"
    }
   },
   "outputs": [],
   "source": [
    "def walk_forward_SARIMA(X, window=120, horizon=7, debug=False):\n",
    "    \"\"\"\n",
    "    Evaluates model performance using walk-forward validation.\n",
    "    \n",
    "    Parameters\n",
    "    ----------\n",
    "    X : numpy array, pandas series\n",
    "        Input array of values for splitting into train-test\n",
    "        \n",
    "    w : int\n",
    "        Size of training window per iteration\n",
    "        \n",
    "    horizon : int\n",
    "        Range of values to forecast\n",
    "        \n",
    "    debug : bool\n",
    "        Set to True if you want to inspect if the data is splitting properly\n",
    "    \"\"\"\n",
    "    \n",
    "    fit_vals = []\n",
    "    \n",
    "    # no. of loops:\n",
    "    loops = (len(df_all)-window) // horizon    \n",
    "    \n",
    "    # position tracker\n",
    "    start = 0\n",
    "    end = window\n",
    "    \n",
    "    window = window\n",
    "    horizon = horizon\n",
    "    \n",
    "    train_performance = []\n",
    "    test_performance = []\n",
    "        \n",
    "    for i in range(loops):\n",
    "\n",
    "        train = X[start:end]\n",
    "        test = X[end:end+horizon]\n",
    "        \n",
    "        if len(test) < 7:\n",
    "            break\n",
    "        \n",
    "        model = sm.tsa.statespace.SARIMAX(train, order=(7,1,0),\n",
    "                                          seasonal_order=(0,0,1,6))\n",
    "        results = model.fit(disp=-1)\n",
    "        \n",
    "        y_fitted = results.fittedvalues\n",
    "        fit_vals += list(y_fitted[:7])\n",
    "        \n",
    "        mdape_train = median_absolute_percentage_error(train, y_fitted)\n",
    "        train_performance.append(mdape_train)\n",
    "        \n",
    "        y_true = np.array(test)\n",
    "        y_pred = results.forecast(7)\n",
    "\n",
    "        mdape_test = median_absolute_percentage_error(y_true, y_pred)\n",
    "        test_performance.append(mdape_test)\n",
    "        \n",
    "        if debug:\n",
    "            print('train')\n",
    "            display(train)\n",
    "            print('test')\n",
    "            display(test)\n",
    "        # break if test data is cut off\n",
    "        \n",
    "        # update and repeat\n",
    "        start += horizon\n",
    "        end += horizon\n",
    "        \n",
    "    train_results_mdape = np.mean(np.array(train_performance))\n",
    "    test_results_mdape = np.mean(np.array(test_performance))\n",
    "        \n",
    "    print(\"total number of forecasts:\", loops)\n",
    "    print(\"Train MdAPE:\", train_results_mdape)\n",
    "    print(\"Test MdAPE:\", test_results_mdape)\n",
    "    \n",
    "    return fit_vals"
   ]
  },
  {
   "cell_type": "code",
   "execution_count": 51,
   "metadata": {
    "ExecuteTime": {
     "end_time": "2020-06-08T07:25:18.264268Z",
     "start_time": "2020-06-08T07:25:07.838138Z"
    }
   },
   "outputs": [
    {
     "name": "stderr",
     "output_type": "stream",
     "text": [
      "C:\\Users\\Armand\\Anaconda3\\lib\\site-packages\\ipykernel_launcher.py:29: RuntimeWarning: divide by zero encountered in true_divide\n"
     ]
    },
    {
     "name": "stdout",
     "output_type": "stream",
     "text": [
      "total number of forecasts: 41\n",
      "Train MdAPE: 12.666533059005035\n",
      "Test MdAPE: 17.29518600784417\n"
     ]
    }
   ],
   "source": [
    "out = walk_forward_SARIMA(df_x['y'])"
   ]
  }
 ],
 "metadata": {
  "kernelspec": {
   "display_name": "Python 3",
   "language": "python",
   "name": "python3"
  },
  "language_info": {
   "codemirror_mode": {
    "name": "ipython",
    "version": 3
   },
   "file_extension": ".py",
   "mimetype": "text/x-python",
   "name": "python",
   "nbconvert_exporter": "python",
   "pygments_lexer": "ipython3",
   "version": "3.7.1"
  },
  "varInspector": {
   "cols": {
    "lenName": 16,
    "lenType": 16,
    "lenVar": 40
   },
   "kernels_config": {
    "python": {
     "delete_cmd_postfix": "",
     "delete_cmd_prefix": "del ",
     "library": "var_list.py",
     "varRefreshCmd": "print(var_dic_list())"
    },
    "r": {
     "delete_cmd_postfix": ") ",
     "delete_cmd_prefix": "rm(",
     "library": "var_list.r",
     "varRefreshCmd": "cat(var_dic_list()) "
    }
   },
   "types_to_exclude": [
    "module",
    "function",
    "builtin_function_or_method",
    "instance",
    "_Feature"
   ],
   "window_display": false
  }
 },
 "nbformat": 4,
 "nbformat_minor": 2
}
