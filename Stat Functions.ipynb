{
 "cells": [
  {
   "cell_type": "code",
   "execution_count": 17,
   "metadata": {},
   "outputs": [],
   "source": [
    "# Preliminaries\n",
    "import numpy as np\n",
    "import pandas as pd\n",
    "import powerlaw as pw\n",
    "import seaborn as sns\n",
    "import scipy.stats as stats\n",
    "import statsmodels as sm\n",
    "import matplotlib.pyplot as plt\n",
    "import random\n",
    "\n",
    "%matplotlib inline"
   ]
  },
  {
   "cell_type": "markdown",
   "metadata": {},
   "source": [
    "# Random Sampling"
   ]
  },
  {
   "cell_type": "markdown",
   "metadata": {},
   "source": [
    "## Random Sampling from Empirical Distribution"
   ]
  },
  {
   "cell_type": "code",
   "execution_count": 16,
   "metadata": {},
   "outputs": [],
   "source": [
    "# Random number generator for an empirical distribution.\n",
    "def empirical_rvs(X, N=1000):\n",
    "    \"\"\"\n",
    "    Generates a distribution of values similar to input X.\n",
    "    \n",
    "    Parameters\n",
    "    ----------\n",
    "    X : numpy array\n",
    "    \n",
    "    N : int\n",
    "        number of times to randomly sample\n",
    "    \"\"\"\n",
    "    # Generate N random numbers between 0 and 1\n",
    "    prob = np.random.rand(N)\n",
    "    # Form the empirical data ppf. We can use scipy.stats.mstats.mquantiles for this.\n",
    "    eppf = stats.mstats.mquantiles(X, prob)\n",
    "    return eppf"
   ]
  },
  {
   "cell_type": "code",
   "execution_count": null,
   "metadata": {},
   "outputs": [],
   "source": []
  }
 ],
 "metadata": {
  "kernelspec": {
   "display_name": "Python 3",
   "language": "python",
   "name": "python3"
  },
  "language_info": {
   "codemirror_mode": {
    "name": "ipython",
    "version": 3
   },
   "file_extension": ".py",
   "mimetype": "text/x-python",
   "name": "python",
   "nbconvert_exporter": "python",
   "pygments_lexer": "ipython3",
   "version": "3.7.1"
  }
 },
 "nbformat": 4,
 "nbformat_minor": 2
}
