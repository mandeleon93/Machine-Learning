{
 "cells": [
  {
   "cell_type": "markdown",
   "metadata": {},
   "source": [
    "# Introduction\n",
    "\n",
    "MiniML is a personally customized set of functions designed for quick and easy testing of different machine learning models built mainly on the `scikit-learn` library. It includes one-function comparison of different model performance as well as automated grid search functionality. A model explainer via the `SHAP` library is also included for basic model interpretation and further analysis.\n",
    "\n",
    "This notebook includes functions for regression models and uses a preloaded `scikit-learn` dataset to display sample output."
   ]
  },
  {
   "cell_type": "code",
   "execution_count": 301,
   "metadata": {
    "ExecuteTime": {
     "end_time": "2020-05-19T11:55:22.381624Z",
     "start_time": "2020-05-19T11:55:22.373641Z"
    }
   },
   "outputs": [],
   "source": [
    "import pandas as pd\n",
    "import numpy as np\n",
    "import matplotlib.pyplot as plt\n",
    "\n",
    "from collections import Counter\n",
    "\n",
    "from sklearn.model_selection import train_test_split\n",
    "from sklearn.preprocessing import MinMaxScaler\n",
    "from sklearn.preprocessing import RobustScaler\n",
    "from sklearn.preprocessing import StandardScaler\n",
    "from sklearn.preprocessing import Normalizer\n",
    "\n",
    "from sklearn.neighbors import KNeighborsRegressor\n",
    "from sklearn.linear_model import Ridge\n",
    "from sklearn.linear_model import Lasso\n",
    "from sklearn.linear_model import LogisticRegression\n",
    "from sklearn.svm import LinearSVR\n",
    "from sklearn.tree import DecisionTreeRegressor\n",
    "from sklearn.ensemble import GradientBoostingRegressor\n",
    "from sklearn.ensemble import RandomForestRegressor\n",
    "from sklearn.ensemble import AdaBoostRegressor\n",
    "import xgboost as xgb\n",
    "\n",
    "import shap\n",
    "\n",
    "from sklearn import datasets\n",
    "from sklearn.model_selection import GridSearchCV\n",
    "\n",
    "import warnings\n",
    "import os\n",
    "from sklearn.exceptions import DataConversionWarning\n",
    "warnings.filterwarnings(action='ignore')"
   ]
  },
  {
   "cell_type": "code",
   "execution_count": 20,
   "metadata": {},
   "outputs": [
    {
     "data": {
      "text/html": [
       "<div>\n",
       "<style scoped>\n",
       "    .dataframe tbody tr th:only-of-type {\n",
       "        vertical-align: middle;\n",
       "    }\n",
       "\n",
       "    .dataframe tbody tr th {\n",
       "        vertical-align: top;\n",
       "    }\n",
       "\n",
       "    .dataframe thead th {\n",
       "        text-align: right;\n",
       "    }\n",
       "</style>\n",
       "<table border=\"1\" class=\"dataframe\">\n",
       "  <thead>\n",
       "    <tr style=\"text-align: right;\">\n",
       "      <th></th>\n",
       "      <th>CRIM</th>\n",
       "      <th>ZN</th>\n",
       "      <th>INDUS</th>\n",
       "      <th>CHAS</th>\n",
       "      <th>NOX</th>\n",
       "      <th>RM</th>\n",
       "      <th>AGE</th>\n",
       "      <th>DIS</th>\n",
       "      <th>RAD</th>\n",
       "      <th>TAX</th>\n",
       "      <th>PTRATIO</th>\n",
       "      <th>B</th>\n",
       "      <th>LSTAT</th>\n",
       "      <th>target</th>\n",
       "    </tr>\n",
       "  </thead>\n",
       "  <tbody>\n",
       "    <tr>\n",
       "      <th>0</th>\n",
       "      <td>0.00632</td>\n",
       "      <td>18.0</td>\n",
       "      <td>2.31</td>\n",
       "      <td>0.0</td>\n",
       "      <td>0.538</td>\n",
       "      <td>6.575</td>\n",
       "      <td>65.2</td>\n",
       "      <td>4.0900</td>\n",
       "      <td>1.0</td>\n",
       "      <td>296.0</td>\n",
       "      <td>15.3</td>\n",
       "      <td>396.90</td>\n",
       "      <td>4.98</td>\n",
       "      <td>24.0</td>\n",
       "    </tr>\n",
       "    <tr>\n",
       "      <th>1</th>\n",
       "      <td>0.02731</td>\n",
       "      <td>0.0</td>\n",
       "      <td>7.07</td>\n",
       "      <td>0.0</td>\n",
       "      <td>0.469</td>\n",
       "      <td>6.421</td>\n",
       "      <td>78.9</td>\n",
       "      <td>4.9671</td>\n",
       "      <td>2.0</td>\n",
       "      <td>242.0</td>\n",
       "      <td>17.8</td>\n",
       "      <td>396.90</td>\n",
       "      <td>9.14</td>\n",
       "      <td>21.6</td>\n",
       "    </tr>\n",
       "    <tr>\n",
       "      <th>2</th>\n",
       "      <td>0.02729</td>\n",
       "      <td>0.0</td>\n",
       "      <td>7.07</td>\n",
       "      <td>0.0</td>\n",
       "      <td>0.469</td>\n",
       "      <td>7.185</td>\n",
       "      <td>61.1</td>\n",
       "      <td>4.9671</td>\n",
       "      <td>2.0</td>\n",
       "      <td>242.0</td>\n",
       "      <td>17.8</td>\n",
       "      <td>392.83</td>\n",
       "      <td>4.03</td>\n",
       "      <td>34.7</td>\n",
       "    </tr>\n",
       "    <tr>\n",
       "      <th>3</th>\n",
       "      <td>0.03237</td>\n",
       "      <td>0.0</td>\n",
       "      <td>2.18</td>\n",
       "      <td>0.0</td>\n",
       "      <td>0.458</td>\n",
       "      <td>6.998</td>\n",
       "      <td>45.8</td>\n",
       "      <td>6.0622</td>\n",
       "      <td>3.0</td>\n",
       "      <td>222.0</td>\n",
       "      <td>18.7</td>\n",
       "      <td>394.63</td>\n",
       "      <td>2.94</td>\n",
       "      <td>33.4</td>\n",
       "    </tr>\n",
       "    <tr>\n",
       "      <th>4</th>\n",
       "      <td>0.06905</td>\n",
       "      <td>0.0</td>\n",
       "      <td>2.18</td>\n",
       "      <td>0.0</td>\n",
       "      <td>0.458</td>\n",
       "      <td>7.147</td>\n",
       "      <td>54.2</td>\n",
       "      <td>6.0622</td>\n",
       "      <td>3.0</td>\n",
       "      <td>222.0</td>\n",
       "      <td>18.7</td>\n",
       "      <td>396.90</td>\n",
       "      <td>5.33</td>\n",
       "      <td>36.2</td>\n",
       "    </tr>\n",
       "  </tbody>\n",
       "</table>\n",
       "</div>"
      ],
      "text/plain": [
       "      CRIM    ZN  INDUS  CHAS    NOX     RM   AGE     DIS  RAD    TAX  \\\n",
       "0  0.00632  18.0   2.31   0.0  0.538  6.575  65.2  4.0900  1.0  296.0   \n",
       "1  0.02731   0.0   7.07   0.0  0.469  6.421  78.9  4.9671  2.0  242.0   \n",
       "2  0.02729   0.0   7.07   0.0  0.469  7.185  61.1  4.9671  2.0  242.0   \n",
       "3  0.03237   0.0   2.18   0.0  0.458  6.998  45.8  6.0622  3.0  222.0   \n",
       "4  0.06905   0.0   2.18   0.0  0.458  7.147  54.2  6.0622  3.0  222.0   \n",
       "\n",
       "   PTRATIO       B  LSTAT  target  \n",
       "0     15.3  396.90   4.98    24.0  \n",
       "1     17.8  396.90   9.14    21.6  \n",
       "2     17.8  392.83   4.03    34.7  \n",
       "3     18.7  394.63   2.94    33.4  \n",
       "4     18.7  396.90   5.33    36.2  "
      ]
     },
     "execution_count": 20,
     "metadata": {},
     "output_type": "execute_result"
    }
   ],
   "source": [
    "df = pd.DataFrame(datasets.load_boston()['data'])\n",
    "df.columns = datasets.load_boston()['feature_names']\n",
    "\n",
    "target = datasets.load_boston()['target']\n",
    "\n",
    "df['target'] = target\n",
    "df.head()"
   ]
  },
  {
   "cell_type": "markdown",
   "metadata": {},
   "source": [
    "# Data Cleaning"
   ]
  },
  {
   "cell_type": "code",
   "execution_count": 22,
   "metadata": {},
   "outputs": [],
   "source": [
    "# from sklearn.preprocessing import Imputer\n",
    "from sklearn.impute import SimpleImputer as SI\n",
    "\n",
    "def my_imputer(df, mean=[], median=[], most_frequent=[], fv=np.nan):\n",
    "    \"\"\"\n",
    "    Imputes missing values in the given list of columns\n",
    "    \n",
    "    Note: you may have to perform the transformation separately for\n",
    "    different columns.\n",
    "    \n",
    "    Parameters\n",
    "    ----------\n",
    "    df : dataframe\n",
    "    \n",
    "    mean : list\n",
    "        list of columns\n",
    "    \n",
    "    median : list\n",
    "        list of columns\n",
    "        \n",
    "    most_frequent : list\n",
    "        list of columns\n",
    "        \n",
    "    strategy : str\n",
    "        impute values according to these:\n",
    "            mean (default)\n",
    "            median\n",
    "            most_frequent : use this for categorical\n",
    "    \"\"\"\n",
    "    if mean != []:\n",
    "        for col_name in mean:\n",
    "            imr = SI(strategy='mean', fill_value=fv)\n",
    "            imputed_data = imr.fit_transform(df[[col_name]])\n",
    "            df[col_name] = imputed_data\n",
    "    \n",
    "    if median != []:\n",
    "        for col_name in median:\n",
    "            imr = SI(strategy='median', fill_value=fv)\n",
    "            imputed_data = imr.fit_transform(df[[col_name]])\n",
    "            df[col_name] = imputed_data\n",
    "    if most_frequent != []:    \n",
    "        for col_name in most_frequent:\n",
    "            imr = SI(strategy='most_frequent', fill_value=fv)\n",
    "            imputed_data = imr.fit_transform(df[[col_name]])\n",
    "            df[col_name] = imputed_data\n",
    "    \n",
    "    return df\n",
    "\n",
    "def replace_trash(df, col, trash):\n",
    "    \"\"\"\n",
    "    Replaces trash values (not nan) with the most frequent value\n",
    "    in the column.\n",
    "    \n",
    "    Parameters\n",
    "    ----------\n",
    "    df : dataframe\n",
    "    \n",
    "    col : str\n",
    "        column name of column with trash values\n",
    "        \n",
    "    trash : str, int\n",
    "        whatever it is you want to replace\n",
    "    \"\"\"\n",
    "    fill = df[col].value_counts().index[0]\n",
    "    df[col].replace(trash, fill)\n",
    "    df[col] = df[col].replace(trash, fill)\n",
    "    \n",
    "    return df"
   ]
  },
  {
   "cell_type": "markdown",
   "metadata": {},
   "source": [
    "# Data Prep"
   ]
  },
  {
   "cell_type": "code",
   "execution_count": 23,
   "metadata": {},
   "outputs": [],
   "source": [
    "def split_scale(df, target, split_ratio=0.25, random_state=0, stratify=False,\n",
    "               scaler=None):\n",
    "    \"\"\"\n",
    "    Scales and performs train_test_split on a dataframe containing\n",
    "    feature and target columns. \n",
    "    \n",
    "    Returns\n",
    "    -------\n",
    "    model_data : dict\n",
    "        a dictionary of dataframes\n",
    "    \"\"\"\n",
    "    num_data = df.select_dtypes(include=['int64', 'float64'])\n",
    "    df_targ = num_data[target]\n",
    "    df_feats = num_data.drop(target, axis=1)\n",
    "    \n",
    "    if stratify:\n",
    "        stratify=df\n",
    "    else:\n",
    "        stratify=None\n",
    "\n",
    "    X_train, X_test, y_train, y_test = train_test_split(df_feats, df_targ, \n",
    "                                                    test_size=split_ratio, \n",
    "                                                    random_state=random_state, \n",
    "                                                    stratify=stratify)\n",
    "    if scaler == 'minmax':\n",
    "        scaler_obj = MinMaxScaler()\n",
    "    elif scaler == 'robust':\n",
    "        scaler_obj = RobustScaler()\n",
    "    elif scaler == 'standard':\n",
    "        scaler_obj = StandardScaler()\n",
    "    elif scaler == 'norm':\n",
    "        scaler_obj = Normalizer(norm=lp)\n",
    "    else:\n",
    "        pass\n",
    "    \n",
    "    if scaler is not None:\n",
    "        X_train = scaler_obj.fit_transform(X_train)\n",
    "        X_test = scaler_obj.fit_transform(X_test)\n",
    "    else:\n",
    "        pass\n",
    "    \n",
    "    model_data = {'X_train': X_train, \n",
    "                  'X_test': X_test, \n",
    "                  'y_train':y_train, \n",
    "                  'y_test':y_test, \n",
    "                  'features':df_feats.columns}\n",
    "    \n",
    "    return model_data"
   ]
  },
  {
   "cell_type": "code",
   "execution_count": 25,
   "metadata": {},
   "outputs": [],
   "source": [
    "model_data = split_scale(df, 'target', split_ratio=0.30, random_state=0,\n",
    "           stratify=False, scaler=None)"
   ]
  },
  {
   "cell_type": "code",
   "execution_count": 35,
   "metadata": {},
   "outputs": [
    {
     "data": {
      "text/plain": [
       "KNeighborsRegressor(algorithm='auto', leaf_size=30, metric='minkowski',\n",
       "                    metric_params=None, n_jobs=None, n_neighbors=5, p=2,\n",
       "                    weights='uniform')"
      ]
     },
     "execution_count": 35,
     "metadata": {},
     "output_type": "execute_result"
    }
   ],
   "source": [
    "model = KNeighborsRegressor()\n",
    "model.fit(model_data['X_train'], model_data['y_train'])"
   ]
  },
  {
   "cell_type": "code",
   "execution_count": 52,
   "metadata": {},
   "outputs": [
    {
     "name": "stdout",
     "output_type": "stream",
     "text": [
      "{'learning_rate': 0.2, 'max_depth': 4, 'max_features': 0.5, 'min_samples_leaf': 4}\n"
     ]
    }
   ],
   "source": [
    "param_grids = {'learning_rate': [.2, 0.1, 0.05, 0.02, 0.01],\n",
    "              'max_depth': [3, 4, 6, 10, 14],\n",
    "              'min_samples_leaf': [2, 3, 4],\n",
    "              'max_features': [.5,.3, .2] \n",
    "}   \n",
    "\n",
    "est = GradientBoostingRegressor(n_estimators=400)\n",
    "gs_cv = GridSearchCV(est, param_grids, n_jobs=-1).fit(model_data['X_train'], \n",
    "                                                      model_data['y_train'])\n",
    "print(gs_cv.best_params_)"
   ]
  },
  {
   "cell_type": "markdown",
   "metadata": {},
   "source": [
    "# ML Models: \n",
    "\n",
    "## Basic"
   ]
  },
  {
   "cell_type": "code",
   "execution_count": 329,
   "metadata": {
    "ExecuteTime": {
     "end_time": "2020-05-19T12:08:11.736967Z",
     "start_time": "2020-05-19T12:08:11.725002Z"
    }
   },
   "outputs": [],
   "source": [
    "def quick_test(df, target_col, ratio=0.30, r_state=0, scaler='None'):\n",
    "    \"\"\"\n",
    "    Displays a variety of machine learning models and their respective\n",
    "    training and test scores. Feature importance is also displayed if \n",
    "    applicable.\n",
    "    \"\"\"\n",
    "    names = ['KNeighborsRegressor',\n",
    "                          'Linear SVM',\n",
    "             'Decision Tree',\n",
    "                    'Ridge',\n",
    "                    'Lasso',\n",
    "                    'GradientBoostingRegressor',\n",
    "                    'RandomForestRegressor',\n",
    "                    'AdaBoostRegressor',\n",
    "                    'XGboost']\n",
    "\n",
    "    regressors = [KNeighborsRegressor(),\n",
    "                                    LinearSVR(),\n",
    "                  DecisionTreeRegressor(),\n",
    "                    Ridge(),\n",
    "                    Lasso(),\n",
    "                    GradientBoostingRegressor(),\n",
    "                    RandomForestRegressor(),\n",
    "                    AdaBoostRegressor(),\n",
    "                    xgb.XGBRegressor()]\n",
    "\n",
    "    model_data = split_scale(df, target_col, split_ratio=ratio, random_state=r_state,\n",
    "               stratify=False, scaler=None)\n",
    "\n",
    "    X_train = model_data['X_train']\n",
    "    X_test = model_data['X_test']\n",
    "    y_train = model_data['y_train']\n",
    "    y_test = model_data['y_test']\n",
    "    \n",
    "    training_acc = []\n",
    "    test_acc = []\n",
    "    top_predictor = []\n",
    "    \n",
    "    for ml in regressors:\n",
    "        model = ml\n",
    "        mod_obj = model.fit(X_train, y_train)\n",
    "\n",
    "        training_acc.append(model.score(X_train, y_train))\n",
    "        test_acc.append(model.score(X_test, y_test))\n",
    "        \n",
    "        try:\n",
    "            feature_importance = mod_obj.feature_importances_\n",
    "            # feature_importance[np.argsort(feature_importance)[-1]]\n",
    "            top_predictor.append(\n",
    "                model_data['X_train'].columns[np.argsort(feature_importance)[-1]])\n",
    "        except:\n",
    "            top_predictor.append('N/A')\n",
    "        \n",
    "    df_out = pd.DataFrame({'Model': names, 'Train Acc': training_acc, \n",
    "                           \"Test Acc\": test_acc, 'Top Predictor': top_predictor})\n",
    "    return df_out"
   ]
  },
  {
   "cell_type": "code",
   "execution_count": 362,
   "metadata": {
    "ExecuteTime": {
     "end_time": "2020-05-19T16:10:04.710519Z",
     "start_time": "2020-05-19T16:10:04.686096Z"
    }
   },
   "outputs": [],
   "source": [
    "params_gs = {\n",
    "    'KNN':{'n_neighbors': [1,3, 5, 7, 9, 11, 13, 15]},\n",
    "    'LogisticRegression L1': {'C': [1e-12, 1e-10, 1e-8, 1e-4, 1e-3,0.1, 0.2,0.4, 0.75,\n",
    "                         1, 1.5, 3, 5, 10]},\n",
    "    'LogisticRegression L2': {'C': [1e-12, 1e-10, 1e-8, 1e-4, 1e-3,0.1, 0.2,0.4, 0.75,\n",
    "                         1, 1.5, 3, 5, 10]},\n",
    "    'SVM L1': {'C': [1e-3, 1e-2, 1e-1, 1, 10, 100, 500, 1000]},\n",
    "    'SVM L2': {'C': [1e-3, 1e-2, 1e-1, 1, 10, 100, 500, 1000]},\n",
    "    'SVC RBF': {'C': [1e-3, 1e-2, 1e-1, 1, 10, 100, 500, 1000], \n",
    "               'gamma': [1e-2,0.1, 1, 2, 3, 5, 10,\n",
    "                        15, 20, 100, 500, 1000 ]},\n",
    "    'SVC Poly': {'C': [1e-3, 1e-2, 1e-1, 1, 10, 100, 500, 1000], \n",
    "                 'degree': [3],\n",
    "                 'coef0': [0,5,10, 100]},\n",
    "    'Random Forest': {'n_estimators': [100, 500, 1000], \n",
    "                      'max_features' : [None, 3, 5, 'auto'],\n",
    "                      'max_depth' : list(range(3, 10))#+[None],\n",
    "                     },\n",
    "    'Decision Tree':{'max_depth' : range(3, 5)},\n",
    "    'GBM': {'n_estimators': [100, 500, 1000], \n",
    "                      'max_features' :  [None, 3, 5, 'auto'],\n",
    "                      'learning_rate': np.arange(0.1, 3, 0.3).tolist(),\n",
    "                      'max_depth' : list(range(3, 10))#+[None],\n",
    "                     },\n",
    "    'Ridge': {'alpha': [1e-12, 1e-10, 1e-8, 1e-4, 1e-3,0.1, 0.2,0.4, 0.75,\n",
    "                         1, 1.5, 3, 5, 10]},\n",
    "    'Lasso': {'alpha': [1e-12, 1e-10, 1e-8, 1e-4, 1e-3,0.1, 0.2,0.4, 0.75,\n",
    "                         1, 1.5, 3, 5, 10]},\n",
    "    'Bayes_Gaussian': {'var_smoothing': [1e-12, 1e-10, 1e-9, 1e-8, 1e-4, 1e-3,0.1, 0.2,0.4, 0.75,\n",
    "                         1] },\n",
    "    'Ada Boost': {'learning_rate': np.arange(0.1, 3, 0.3).tolist(),\n",
    "                  'n_estimators': [100, 500, 1000]},\n",
    "    'XGBoost': {'learning_rate': np.arange(0.1, 3, 0.3).tolist(),\n",
    "               'max_depth' : list(range(3, 7)),\n",
    "               'n_estimators': [100, 300, 500]}\n",
    "}"
   ]
  },
  {
   "cell_type": "code",
   "execution_count": 354,
   "metadata": {
    "ExecuteTime": {
     "end_time": "2020-05-19T13:59:56.426906Z",
     "start_time": "2020-05-19T13:59:56.412941Z"
    }
   },
   "outputs": [],
   "source": [
    "def grid_search_all(df, target_col, ratio=0.30, r_state=0, scaler='None'):\n",
    "    \"\"\"\n",
    "    Displays a variety of machine learning models and their respective\n",
    "    training and test scores. Feature importance is also displayed if \n",
    "    applicable.\n",
    "    \n",
    "    Uses GridSearch to find the best combination of hyper parameters\n",
    "    listed in params_gs.\n",
    "    \n",
    "    This may take a while to run.\n",
    "    \"\"\"\n",
    "\n",
    "    names = ['KNN',\n",
    "             'SVM L2',\n",
    "             'Decision Tree',\n",
    "            'Ridge',\n",
    "            'Lasso',\n",
    "            'GBM',\n",
    "            'Random Forest',\n",
    "            'Ada Boost']\n",
    "\n",
    "    model_list = [KNeighborsRegressor(),\n",
    "                  LinearSVR(),\n",
    "                  DecisionTreeRegressor(),\n",
    "                    Ridge(),\n",
    "                    Lasso(),\n",
    "                    GradientBoostingRegressor(),\n",
    "                    RandomForestRegressor(),\n",
    "                    AdaBoostRegressor()]\n",
    "    \n",
    "    model_iter = list(zip(names, model_list))\n",
    "\n",
    "    model_data = split_scale(df, target_col, split_ratio=ratio, random_state=r_state,\n",
    "               stratify=False, scaler=None)\n",
    "\n",
    "    X_train = model_data['X_train']\n",
    "    X_test = model_data['X_test']\n",
    "    y_train = model_data['y_train']\n",
    "    y_test = model_data['y_test']\n",
    "    \n",
    "    training_acc = []\n",
    "    test_acc = []\n",
    "    top_predictor = []\n",
    "    params = []\n",
    "    \n",
    "    for ml in model_iter:\n",
    "        print(ml[0])\n",
    "        model = ml[1]\n",
    "        model.fit(X_train, y_train)\n",
    "        model_out = GridSearchCV(model, param_grid = params_gs[ml[0]], iid=False)\n",
    "        mod_obj = model_out.fit(X_train, y_train)\n",
    "        \n",
    "        \n",
    "        training_acc.append(mod_obj.score(X_train, y_train))\n",
    "        test_acc.append(mod_obj.score(X_test, y_test))\n",
    "        params.append(mod_obj.best_params_)\n",
    "        \n",
    "        try:\n",
    "            feature_importance = mod_obj.best_estimator_.feature_importances_\n",
    "            # feature_importance[np.argsort(feature_importance)[-1]]\n",
    "            top_predictor.append(\n",
    "                model_data['X_train'].columns[np.argsort(feature_importance)[-1]])\n",
    "        except:\n",
    "            top_predictor.append('N/A')\n",
    "        \n",
    "    df_out = pd.DataFrame({'Model': names, 'Train Acc': training_acc, \n",
    "                           \"Test Acc\": test_acc, 'Top Predictor': top_predictor,\n",
    "                          \"Best Params\": params})\n",
    "    return df_out"
   ]
  },
  {
   "cell_type": "code",
   "execution_count": 355,
   "metadata": {
    "ExecuteTime": {
     "end_time": "2020-05-19T14:24:18.515540Z",
     "start_time": "2020-05-19T13:59:57.172629Z"
    }
   },
   "outputs": [
    {
     "name": "stdout",
     "output_type": "stream",
     "text": [
      "KNN\n",
      "SVM L2\n",
      "Decision Tree\n",
      "Ridge\n",
      "Lasso\n",
      "GBM\n",
      "Random Forest\n",
      "Ada Boost\n"
     ]
    },
    {
     "data": {
      "text/html": [
       "<div>\n",
       "<style scoped>\n",
       "    .dataframe tbody tr th:only-of-type {\n",
       "        vertical-align: middle;\n",
       "    }\n",
       "\n",
       "    .dataframe tbody tr th {\n",
       "        vertical-align: top;\n",
       "    }\n",
       "\n",
       "    .dataframe thead th {\n",
       "        text-align: right;\n",
       "    }\n",
       "</style>\n",
       "<table border=\"1\" class=\"dataframe\">\n",
       "  <thead>\n",
       "    <tr style=\"text-align: right;\">\n",
       "      <th></th>\n",
       "      <th>Model</th>\n",
       "      <th>Train Acc</th>\n",
       "      <th>Test Acc</th>\n",
       "      <th>Top Predictor</th>\n",
       "      <th>Best Params</th>\n",
       "    </tr>\n",
       "  </thead>\n",
       "  <tbody>\n",
       "    <tr>\n",
       "      <th>0</th>\n",
       "      <td>KNN</td>\n",
       "      <td>0.648548</td>\n",
       "      <td>0.473386</td>\n",
       "      <td>N/A</td>\n",
       "      <td>{'n_neighbors': 7}</td>\n",
       "    </tr>\n",
       "    <tr>\n",
       "      <th>1</th>\n",
       "      <td>SVM L2</td>\n",
       "      <td>-0.934667</td>\n",
       "      <td>-0.781466</td>\n",
       "      <td>N/A</td>\n",
       "      <td>{'C': 0.1}</td>\n",
       "    </tr>\n",
       "    <tr>\n",
       "      <th>2</th>\n",
       "      <td>Decision Tree</td>\n",
       "      <td>0.851129</td>\n",
       "      <td>0.662887</td>\n",
       "      <td>RM</td>\n",
       "      <td>{'max_depth': 3}</td>\n",
       "    </tr>\n",
       "    <tr>\n",
       "      <th>3</th>\n",
       "      <td>Ridge</td>\n",
       "      <td>0.764475</td>\n",
       "      <td>0.672546</td>\n",
       "      <td>N/A</td>\n",
       "      <td>{'alpha': 0.1}</td>\n",
       "    </tr>\n",
       "    <tr>\n",
       "      <th>4</th>\n",
       "      <td>Lasso</td>\n",
       "      <td>0.764541</td>\n",
       "      <td>0.673195</td>\n",
       "      <td>N/A</td>\n",
       "      <td>{'alpha': 0.001}</td>\n",
       "    </tr>\n",
       "    <tr>\n",
       "      <th>5</th>\n",
       "      <td>GBM</td>\n",
       "      <td>1.000000</td>\n",
       "      <td>0.781104</td>\n",
       "      <td>LSTAT</td>\n",
       "      <td>{'learning_rate': 0.1, 'max_depth': 7, 'max_fe...</td>\n",
       "    </tr>\n",
       "    <tr>\n",
       "      <th>6</th>\n",
       "      <td>Random Forest</td>\n",
       "      <td>0.983837</td>\n",
       "      <td>0.784469</td>\n",
       "      <td>RM</td>\n",
       "      <td>{'max_depth': 9, 'max_features': 5, 'n_estimat...</td>\n",
       "    </tr>\n",
       "    <tr>\n",
       "      <th>7</th>\n",
       "      <td>Ada Boost</td>\n",
       "      <td>0.931046</td>\n",
       "      <td>0.726046</td>\n",
       "      <td>LSTAT</td>\n",
       "      <td>{'learning_rate': 2.2000000000000006, 'n_estim...</td>\n",
       "    </tr>\n",
       "  </tbody>\n",
       "</table>\n",
       "</div>"
      ],
      "text/plain": [
       "           Model  Train Acc  Test Acc Top Predictor  \\\n",
       "0            KNN   0.648548  0.473386           N/A   \n",
       "1         SVM L2  -0.934667 -0.781466           N/A   \n",
       "2  Decision Tree   0.851129  0.662887            RM   \n",
       "3          Ridge   0.764475  0.672546           N/A   \n",
       "4          Lasso   0.764541  0.673195           N/A   \n",
       "5            GBM   1.000000  0.781104         LSTAT   \n",
       "6  Random Forest   0.983837  0.784469            RM   \n",
       "7      Ada Boost   0.931046  0.726046         LSTAT   \n",
       "\n",
       "                                         Best Params  \n",
       "0                                 {'n_neighbors': 7}  \n",
       "1                                         {'C': 0.1}  \n",
       "2                                   {'max_depth': 3}  \n",
       "3                                     {'alpha': 0.1}  \n",
       "4                                   {'alpha': 0.001}  \n",
       "5  {'learning_rate': 0.1, 'max_depth': 7, 'max_fe...  \n",
       "6  {'max_depth': 9, 'max_features': 5, 'n_estimat...  \n",
       "7  {'learning_rate': 2.2000000000000006, 'n_estim...  "
      ]
     },
     "execution_count": 355,
     "metadata": {},
     "output_type": "execute_result"
    }
   ],
   "source": [
    "grid_search_all(df, 'target')"
   ]
  },
  {
   "cell_type": "markdown",
   "metadata": {},
   "source": [
    "# Model Explainer: SHAP"
   ]
  },
  {
   "cell_type": "code",
   "execution_count": 155,
   "metadata": {},
   "outputs": [
    {
     "name": "stderr",
     "output_type": "stream",
     "text": [
      "Using 354 background data samples could cause slower run times. Consider using shap.sample(data, K) or shap.kmeans(data, K) to summarize the background as K samples.\n"
     ]
    },
    {
     "data": {
      "application/vnd.jupyter.widget-view+json": {
       "model_id": "69b10159915145d8ba0b818bd3dc3e24",
       "version_major": 2,
       "version_minor": 0
      },
      "text/plain": [
       "HBox(children=(IntProgress(value=0, max=354), HTML(value='')))"
      ]
     },
     "metadata": {},
     "output_type": "display_data"
    },
    {
     "name": "stdout",
     "output_type": "stream",
     "text": [
      "\n"
     ]
    }
   ],
   "source": [
    "shap_values = shap.KernelExplainer(model.predict, \n",
    "                                   model_data['X_train']).shap_values(model_data['X_train'])"
   ]
  },
  {
   "cell_type": "code",
   "execution_count": 160,
   "metadata": {
    "ExecuteTime": {
     "end_time": "2020-05-18T14:35:35.264580Z",
     "start_time": "2020-05-18T14:35:35.253600Z"
    }
   },
   "outputs": [],
   "source": [
    "def explain_model(df_shap, df, simplify=False):\n",
    "    \"\"\"\n",
    "    Uses SHAP to visualize feature importance. \n",
    "    \n",
    "    Parameters\n",
    "    ----------\n",
    "    df_shap : numpy array\n",
    "        generate with the code above. may take some time\n",
    "        \n",
    "    df : dataframe\n",
    "        training or test data used to generate the shap values\n",
    "        \n",
    "    simplify : bool\n",
    "        Displays a simplified version if simplify=True. \n",
    "    \"\"\"\n",
    "    #import matplotlib as plt\n",
    "    # Make a copy of the input data\n",
    "    shap_v = pd.DataFrame(df_shap)\n",
    "#     display(shap_v)\n",
    "    feature_list = df.columns\n",
    "    shap_v.columns = feature_list\n",
    "    df_v = df.copy().reset_index().drop('index',axis=1)\n",
    "    \n",
    "    # Determine the correlation in order to plot with different colors\n",
    "    corr_list = list()\n",
    "    for i in feature_list:\n",
    "        b = np.corrcoef(shap_v[i],df_v[i])[1][0]\n",
    "        corr_list.append(b)\n",
    "    corr_df = pd.concat([pd.Series(feature_list),pd.Series(corr_list)],axis=1).fillna(0)\n",
    "    # Make a data frame. Column 1 is the feature, and Column 2 is the correlation coefficient\n",
    "    corr_df.columns  = ['Variable','Corr']\n",
    "    corr_df['Sign'] = np.where(corr_df['Corr'] > 0,\n",
    "                               'red', 'blue')\n",
    "    \n",
    "    if simplify:\n",
    "        # Plot bar\n",
    "        shap_abs = np.abs(shap_v)\n",
    "        k=pd.DataFrame(shap_abs.mean()).reset_index()\n",
    "        k.columns = ['Variable','SHAP_abs']\n",
    "        k2 = k.merge(corr_df,left_on = 'Variable',right_on='Variable',how='inner')\n",
    "        k2 = k2.sort_values(by='SHAP_abs',ascending = True)\n",
    "        colorlist = k2['Sign']\n",
    "        ax = k2.plot.barh(x='Variable',y='SHAP_abs',color = colorlist, figsize=(8,6),legend=False)\n",
    "        ax.set_xlabel(\"SHAP Value (Red = Positive Impact)\")\n",
    "    else:\n",
    "        # Plot Summary\n",
    "        shap.summary_plot(shap_values, model_data['X_train'])"
   ]
  },
  {
   "cell_type": "code",
   "execution_count": 162,
   "metadata": {
    "ExecuteTime": {
     "end_time": "2020-05-18T15:28:09.598545Z",
     "start_time": "2020-05-18T15:28:08.934666Z"
    }
   },
   "outputs": [
    {
     "data": {
      "image/png": "[encoded data removed]",
      "text/plain": [
       "<Figure size 576x432 with 1 Axes>"
      ]
     },
     "metadata": {
      "needs_background": "light"
     },
     "output_type": "display_data"
    }
   ],
   "source": [
    "explain_model(shap_values, model_data['X_train'], True)"
   ]
  },
  {
   "cell_type": "code",
   "execution_count": 163,
   "metadata": {
    "ExecuteTime": {
     "end_time": "2020-05-18T15:57:36.232466Z",
     "start_time": "2020-05-18T15:57:35.586594Z"
    },
    "scrolled": false
   },
   "outputs": [
    {
     "data": {
      "image/png": "[encoded data removed]",
      "text/plain": [
       "<Figure size 576x482.4 with 2 Axes>"
      ]
     },
     "metadata": {
      "needs_background": "light"
     },
     "output_type": "display_data"
    }
   ],
   "source": [
    "explain_model(shap_values, model_data['X_train'], False)"
   ]
  },
  {
   "cell_type": "markdown",
   "metadata": {},
   "source": [
    "# References\n",
    "\n",
    "SHAP: https://towardsdatascience.com/explain-your-model-with-the-shap-values-bc36aac4de3d"
   ]
  },
  {
   "cell_type": "code",
   "execution_count": null,
   "metadata": {},
   "outputs": [],
   "source": []
  }
 ],
 "metadata": {
  "kernelspec": {
   "display_name": "Python 3",
   "language": "python",
   "name": "python3"
  },
  "language_info": {
   "codemirror_mode": {
    "name": "ipython",
    "version": 3
   },
   "file_extension": ".py",
   "mimetype": "text/x-python",
   "name": "python",
   "nbconvert_exporter": "python",
   "pygments_lexer": "ipython3",
   "version": "3.7.1"
  },
  "varInspector": {
   "cols": {
    "lenName": 16,
    "lenType": 16,
    "lenVar": 40
   },
   "kernels_config": {
    "python": {
     "delete_cmd_postfix": "",
     "delete_cmd_prefix": "del ",
     "library": "var_list.py",
     "varRefreshCmd": "print(var_dic_list())"
    },
    "r": {
     "delete_cmd_postfix": ") ",
     "delete_cmd_prefix": "rm(",
     "library": "var_list.r",
     "varRefreshCmd": "cat(var_dic_list()) "
    }
   },
   "types_to_exclude": [
    "module",
    "function",
    "builtin_function_or_method",
    "instance",
    "_Feature"
   ],
   "window_display": false
  }
 },
 "nbformat": 4,
 "nbformat_minor": 2
}
