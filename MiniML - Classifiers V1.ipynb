{
 "cells": [
  {
   "cell_type": "markdown",
   "metadata": {},
   "source": [
    "# Introduction\n",
    "\n",
    "MiniML is a personally customized set of functions designed for quick and easy testing of different machine learning models built mainly on the `scikit-learn` library. It includes one-function comparison of different model performance as well as automated grid search functionality. A model explainer via the `SHAP` library is also included for basic model interpretation and further analysis.\n",
    "\n",
    "This notebook includes functions for classification models and uses a preloaded `scikit-learn` dataset to display sample output."
   ]
  },
  {
   "cell_type": "code",
   "execution_count": 1,
   "metadata": {
    "ExecuteTime": {
     "end_time": "2020-05-19T18:49:50.790602Z",
     "start_time": "2020-05-19T18:49:48.847174Z"
    }
   },
   "outputs": [],
   "source": [
    "import pandas as pd\n",
    "import numpy as np\n",
    "import matplotlib.pyplot as plt\n",
    "\n",
    "from collections import Counter\n",
    "\n",
    "from sklearn.model_selection import train_test_split\n",
    "from sklearn.preprocessing import MinMaxScaler\n",
    "from sklearn.preprocessing import RobustScaler\n",
    "from sklearn.preprocessing import StandardScaler\n",
    "from sklearn.preprocessing import Normalizer\n",
    "\n",
    "from sklearn.neural_network import MLPClassifier\n",
    "from sklearn.neighbors import KNeighborsClassifier\n",
    "from sklearn.svm import SVC\n",
    "from sklearn.gaussian_process import GaussianProcessClassifier\n",
    "from sklearn.gaussian_process.kernels import RBF\n",
    "from sklearn.tree import DecisionTreeClassifier\n",
    "from sklearn.ensemble import RandomForestClassifier, AdaBoostClassifier, GradientBoostingClassifier\n",
    "from sklearn.naive_bayes import GaussianNB\n",
    "from sklearn.discriminant_analysis import QuadraticDiscriminantAnalysis\n",
    "\n",
    "from sklearn.neighbors import KNeighborsRegressor\n",
    "\n",
    "from sklearn.linear_model import Ridge\n",
    "from sklearn.linear_model import Lasso\n",
    "from sklearn.linear_model import LogisticRegression\n",
    "from sklearn.svm import LinearSVC\n",
    "\n",
    "from sklearn.metrics import confusion_matrix\n",
    "from sklearn.metrics import classification_report\n",
    "from sklearn.model_selection import GridSearchCV\n",
    "\n",
    "from sklearn.datasets import load_breast_cancer\n",
    "import shap\n",
    "\n",
    "import warnings\n",
    "import os\n",
    "from sklearn.exceptions import DataConversionWarning\n",
    "warnings.filterwarnings(action='ignore')"
   ]
  },
  {
   "cell_type": "code",
   "execution_count": 2,
   "metadata": {
    "ExecuteTime": {
     "end_time": "2020-05-19T18:49:50.814951Z",
     "start_time": "2020-05-19T18:49:50.792600Z"
    }
   },
   "outputs": [],
   "source": [
    "data = load_breast_cancer()\n",
    "X = data[\"data\"]\n",
    "y = data[\"target\"]\n",
    "feature_names = data[\"feature_names\"]\n",
    "\n",
    "df = pd.DataFrame(data=X, columns=feature_names)\n",
    "df['target'] = y"
   ]
  },
  {
   "cell_type": "code",
   "execution_count": 3,
   "metadata": {
    "ExecuteTime": {
     "end_time": "2020-05-19T18:49:50.819906Z",
     "start_time": "2020-05-19T18:49:50.815914Z"
    }
   },
   "outputs": [],
   "source": [
    "# path = os.path.abspath(r'C:\\Users\\Armand\\Documents\\AIM_Documents\\Courses\\Term 3\\DL\\Session 2\\UPCAT_DATA2.xlsx')\n",
    "# df = pd.read_excel(path)\n",
    "# df = df.dropna()\n",
    "# df.head()"
   ]
  },
  {
   "cell_type": "code",
   "execution_count": 4,
   "metadata": {
    "ExecuteTime": {
     "end_time": "2020-05-19T18:49:50.827884Z",
     "start_time": "2020-05-19T18:49:50.823897Z"
    }
   },
   "outputs": [],
   "source": [
    "# df['target']"
   ]
  },
  {
   "cell_type": "markdown",
   "metadata": {},
   "source": [
    "# Data Cleaning"
   ]
  },
  {
   "cell_type": "code",
   "execution_count": 5,
   "metadata": {
    "ExecuteTime": {
     "end_time": "2020-05-19T18:49:50.847830Z",
     "start_time": "2020-05-19T18:49:50.829878Z"
    }
   },
   "outputs": [],
   "source": [
    "from sklearn.impute import SimpleImputer as SI\n",
    "\n",
    "def my_imputer(df, mean=[], median=[], most_frequent=[], fv=np.nan):\n",
    "    \"\"\"\n",
    "    Imputes missing values in the given list of columns\n",
    "    \n",
    "    Note: you may have to perform the transformation separately for\n",
    "    different columns.\n",
    "    \n",
    "    Parameters\n",
    "    ----------\n",
    "    df : dataframe\n",
    "    \n",
    "    mean : list\n",
    "        list of columns\n",
    "    \n",
    "    median : list\n",
    "        list of columns\n",
    "        \n",
    "    most_frequent : list\n",
    "        list of columns\n",
    "        \n",
    "    strategy : str\n",
    "        impute values according to these:\n",
    "            mean (default)\n",
    "            median\n",
    "            most_frequent : use this for categorical\n",
    "    \"\"\"\n",
    "    if mean != []:\n",
    "        for col_name in mean:\n",
    "            imr = SI(strategy='mean', fill_value=fv)\n",
    "            imputed_data = imr.fit_transform(df[[col_name]])\n",
    "            df[col_name] = imputed_data\n",
    "    \n",
    "    if median != []:\n",
    "        for col_name in median:\n",
    "            imr = SI(strategy='median', fill_value=fv)\n",
    "            imputed_data = imr.fit_transform(df[[col_name]])\n",
    "            df[col_name] = imputed_data\n",
    "    if most_frequent != []:    \n",
    "        for col_name in most_frequent:\n",
    "            imr = SI(strategy='most_frequent', fill_value=fv)\n",
    "            imputed_data = imr.fit_transform(df[[col_name]])\n",
    "            df[col_name] = imputed_data\n",
    "    \n",
    "    return df\n",
    "\n",
    "def replace_trash(df, col, trash):\n",
    "    \"\"\"\n",
    "    Replaces trash values (not nan) with the most frequent value\n",
    "    in the column.\n",
    "    \n",
    "    Parameters\n",
    "    ----------\n",
    "    df : dataframe\n",
    "    \n",
    "    col : str\n",
    "        column name of column with trash values\n",
    "        \n",
    "    trash : str, int\n",
    "        whatever it is you want to replace\n",
    "    \"\"\"\n",
    "    fill = df[col].value_counts().index[0]\n",
    "    df[col].replace(trash, fill)\n",
    "    df[col] = df[col].replace(trash, fill)\n",
    "    \n",
    "    return df"
   ]
  },
  {
   "cell_type": "markdown",
   "metadata": {},
   "source": [
    "# Data Prep"
   ]
  },
  {
   "cell_type": "code",
   "execution_count": 6,
   "metadata": {
    "ExecuteTime": {
     "end_time": "2020-05-19T18:49:50.861832Z",
     "start_time": "2020-05-19T18:49:50.848827Z"
    }
   },
   "outputs": [],
   "source": [
    "def split_scale(df, target, split_ratio=0.25, random_state=0, stratify=False,\n",
    "               scaler=None):\n",
    "    num_data = df.select_dtypes(include=['int64', 'float64', 'int32'])\n",
    "    df_targ = num_data[target]\n",
    "    df_feats = num_data.drop(target, axis=1)\n",
    "    \n",
    "    if stratify:\n",
    "        stratify=df\n",
    "    else:\n",
    "        stratify=None\n",
    "\n",
    "    X_train, X_test, y_train, y_test = train_test_split(df_feats, df_targ, \n",
    "                                                    test_size=split_ratio, \n",
    "                                                    random_state=random_state, \n",
    "                                                    stratify=stratify)\n",
    "    if scaler == 'minmax':\n",
    "        scaler_obj = MinMaxScaler()\n",
    "    elif scaler == 'robust':\n",
    "        scaler_obj = RobustScaler()\n",
    "    elif scaler == 'standard':\n",
    "        scaler_obj = StandardScaler()\n",
    "    elif scaler == 'norm':\n",
    "        scaler_obj = Normalizer(norm=lp)\n",
    "    else:\n",
    "        pass\n",
    "    \n",
    "    if scaler is not None:\n",
    "        X_train = scaler_obj.fit_transform(X_train)\n",
    "        X_test = scaler_obj.fit_transform(X_test)\n",
    "    else:\n",
    "        pass\n",
    "    \n",
    "    model_data = {'X_train': X_train, \n",
    "                  'X_test': X_test, \n",
    "                  'y_train':y_train, \n",
    "                  'y_test':y_test, \n",
    "                  'features':df_feats.columns}\n",
    "    \n",
    "    return model_data"
   ]
  },
  {
   "cell_type": "code",
   "execution_count": 7,
   "metadata": {
    "ExecuteTime": {
     "end_time": "2020-05-19T18:49:50.884730Z",
     "start_time": "2020-05-19T18:49:50.864787Z"
    }
   },
   "outputs": [],
   "source": [
    "model_data = split_scale(df, target='target', split_ratio=0.30, random_state=0,\n",
    "           stratify=False, scaler=None)"
   ]
  },
  {
   "cell_type": "markdown",
   "metadata": {},
   "source": [
    "# ML Models: Looped\n",
    "\n",
    "## Classifiers\n",
    "\n"
   ]
  },
  {
   "cell_type": "code",
   "execution_count": 8,
   "metadata": {
    "ExecuteTime": {
     "end_time": "2020-05-19T18:49:50.902683Z",
     "start_time": "2020-05-19T18:49:50.889719Z"
    }
   },
   "outputs": [],
   "source": [
    "def quick_test(df, target_col, ratio=0.25, r_state=0, scaler='None'):\n",
    "    \"\"\"\n",
    "    Displays a variety of machine learning models and their respective\n",
    "    training and test scores. Feature importance is also displayed if \n",
    "    applicable.\n",
    "    \"\"\"\n",
    "    names = [\"Logistic Regression\",\n",
    "             \"Nearest Neighbors\", \n",
    "             \"Linear SVM\", \"RBF SVM\", \"Gaussian Process\",\n",
    "         \"Decision Tree\", \"Random Forest\", \"Gradient Boosting\", \n",
    "             \"AdaBoost\"]\n",
    "\n",
    "    classifiers = [\n",
    "        LogisticRegression(),\n",
    "        KNeighborsClassifier(3),\n",
    "        SVC(kernel=\"linear\", C=0.025),\n",
    "        SVC(gamma=2, C=1),\n",
    "        GaussianProcessClassifier(1.0 * RBF(1.0)),\n",
    "        DecisionTreeClassifier(max_depth=5),\n",
    "        RandomForestClassifier(max_depth=5, n_estimators=10, max_features=1),\n",
    "        GradientBoostingClassifier(),\n",
    "        AdaBoostClassifier()]\n",
    "\n",
    "    model_data = split_scale(df, target_col, split_ratio=ratio, random_state=r_state,\n",
    "               stratify=False, scaler=None)\n",
    "\n",
    "    X_train = model_data['X_train']\n",
    "    X_test = model_data['X_test']\n",
    "    y_train = model_data['y_train']\n",
    "    y_test = model_data['y_test']\n",
    "    \n",
    "    training_acc = []\n",
    "    test_acc = []\n",
    "    top_predictor = []\n",
    "    \n",
    "    for ml in classifiers:\n",
    "        model = ml\n",
    "        mod_obj = model.fit(X_train, y_train)\n",
    "\n",
    "        training_acc.append(model.score(X_train, y_train))\n",
    "        test_acc.append(model.score(X_test, y_test))\n",
    "        \n",
    "        try:\n",
    "            feature_importance = mod_obj.feature_importances_\n",
    "            # feature_importance[np.argsort(feature_importance)[-1]]\n",
    "            top_predictor.append(\n",
    "                model_data['X_train'].columns[np.argsort(feature_importance)[-1]])\n",
    "        except:\n",
    "            top_predictor.append('N/A')\n",
    "        \n",
    "    df_out = pd.DataFrame({'Model': names, 'Train Acc': training_acc, \n",
    "                           \"Test Acc\": test_acc, 'Top Predictor': top_predictor})\n",
    "    return df_out"
   ]
  },
  {
   "cell_type": "code",
   "execution_count": 9,
   "metadata": {
    "ExecuteTime": {
     "end_time": "2020-05-19T18:49:50.910661Z",
     "start_time": "2020-05-19T18:49:50.906674Z"
    }
   },
   "outputs": [],
   "source": [
    "# quick_test(df, 'target')"
   ]
  },
  {
   "cell_type": "code",
   "execution_count": 10,
   "metadata": {
    "ExecuteTime": {
     "end_time": "2020-05-19T18:49:50.929611Z",
     "start_time": "2020-05-19T18:49:50.912657Z"
    }
   },
   "outputs": [],
   "source": [
    "params_gs = {\n",
    "    'KNN':{'n_neighbors': [1,3, 5, 7, 9, 11, 13, 15]},\n",
    "    'LogisticRegression': {'C': [1e-12, 1e-10, 1e-8, 1e-4, 1e-3,0.1, 0.2,0.4, 0.75,\n",
    "                         1, 1.5, 3, 5, 10]},\n",
    "    'LogisticRegression L2': {'C': [1e-12, 1e-10, 1e-8, 1e-4, 1e-3,0.1, 0.2,0.4, 0.75,\n",
    "                         1, 1.5, 3, 5, 10]},\n",
    "    'SVM L1': {'C': [1e-3, 1e-2, 1e-1, 1, 10, 100, 500, 1000]},\n",
    "    'SVM L2': {'C': [1e-3, 1e-2, 1e-1, 1, 10, 100, 500, 1000]},\n",
    "    'SVC RBF': {'C': [1e-3, 1e-2, 1e-1, 1, 10, 100, 500, 1000], \n",
    "               'gamma': [1e-2,0.1, 1, 2, 3, 5, 10,\n",
    "                        15, 20, 100, 500, 1000 ]},\n",
    "    'SVC Poly': {'C': [1e-3, 1e-2, 1e-1, 1, 10, 100, 500, 1000], \n",
    "                 'degree': [3],\n",
    "                 'coef0': [0,5,10, 100]},\n",
    "    'Random Forest': {'n_estimators': [100, 500, 1000], \n",
    "                      'max_features' : [None, 3, 5, 'auto'],\n",
    "                      'max_depth' : list(range(3, 10))#+[None],\n",
    "                     },\n",
    "    'Decision Tree':{'max_depth' : range(3, 5)},\n",
    "    'GBM': {'n_estimators': [100, 500, 1000], \n",
    "                      'max_features' :  [None, 3, 5, 'auto'],\n",
    "                      'learning_rate': np.arange(0.1, 3, 0.3).tolist(),\n",
    "                      'max_depth' : list(range(3, 10))#+[None],\n",
    "                     },\n",
    "    'Ridge': {'alpha': [1e-12, 1e-10, 1e-8, 1e-4, 1e-3,0.1, 0.2,0.4, 0.75,\n",
    "                         1, 1.5, 3, 5, 10]},\n",
    "    'Lasso': {'alpha': [1e-12, 1e-10, 1e-8, 1e-4, 1e-3,0.1, 0.2,0.4, 0.75,\n",
    "                         1, 1.5, 3, 5, 10]},\n",
    "    'Ada Boost': {'learning_rate': np.arange(0.1, 3, 0.3).tolist(),\n",
    "                  'n_estimators': [100, 500, 1000]},\n",
    "    'XGBoost': {'learning_rate': np.arange(0.1, 3, 0.3).tolist(),\n",
    "               'max_depth' : list(range(3, 10)),\n",
    "               'n_estimators': [100, 500, 1000]}\n",
    "}"
   ]
  },
  {
   "cell_type": "markdown",
   "metadata": {},
   "source": [
    "# Grid Search"
   ]
  },
  {
   "cell_type": "code",
   "execution_count": 11,
   "metadata": {
    "ExecuteTime": {
     "end_time": "2020-05-19T18:49:50.944574Z",
     "start_time": "2020-05-19T18:49:50.931607Z"
    }
   },
   "outputs": [],
   "source": [
    "def grid_search_all(df, target_col, ratio=0.30, r_state=0, scaler='None'):\n",
    "    \"\"\"\n",
    "    Displays a variety of machine learning models and their respective\n",
    "    training and test scores. Feature importance is also displayed if \n",
    "    applicable.\n",
    "    \n",
    "    Uses GridSearch to find the best combination of hyper parameters\n",
    "    listed in params_gs.\n",
    "    \n",
    "    This may take a while to run.\n",
    "    \"\"\"\n",
    "    names = [\"LogisticRegression\",\n",
    "             \"KNN\", \"SVM L1\", \"SVC RBF\", \n",
    "             \"Decision Tree\", \"Random Forest\", \"GBM\", \n",
    "             \"Ada Boost\"]\n",
    "\n",
    "    model_list = [\n",
    "        LogisticRegression(),\n",
    "        KNeighborsClassifier(3),\n",
    "        SVC(kernel=\"linear\", C=0.025),\n",
    "        SVC(gamma=2, C=1),\n",
    "        DecisionTreeClassifier(max_depth=5),\n",
    "        RandomForestClassifier(max_depth=5, n_estimators=10, max_features=1),\n",
    "        GradientBoostingClassifier(),\n",
    "        AdaBoostClassifier()]\n",
    "    \n",
    "    model_iter = list(zip(names, model_list))\n",
    "\n",
    "    model_data = split_scale(df, target_col, split_ratio=ratio, random_state=r_state,\n",
    "               stratify=False, scaler=None)\n",
    "\n",
    "    X_train = model_data['X_train']\n",
    "    X_test = model_data['X_test']\n",
    "    y_train = model_data['y_train']\n",
    "    y_test = model_data['y_test']\n",
    "    \n",
    "    training_acc = []\n",
    "    test_acc = []\n",
    "    top_predictor = []\n",
    "    params = []\n",
    "    \n",
    "    for ml in model_iter:\n",
    "        print(ml[0])\n",
    "        model = ml[1]\n",
    "        model.fit(X_train, y_train)\n",
    "        model_out = GridSearchCV(model, param_grid = params_gs[ml[0]], iid=False)\n",
    "        mod_obj = model_out.fit(X_train, y_train)\n",
    "        \n",
    "        \n",
    "        training_acc.append(mod_obj.score(X_train, y_train))\n",
    "        test_acc.append(mod_obj.score(X_test, y_test))\n",
    "        params.append(mod_obj.best_params_)\n",
    "        \n",
    "        try:\n",
    "            feature_importance = mod_obj.best_estimator_.feature_importances_\n",
    "            # feature_importance[np.argsort(feature_importance)[-1]]\n",
    "            top_predictor.append(\n",
    "                model_data['X_train'].columns[np.argsort(feature_importance)[-1]])\n",
    "        except:\n",
    "            top_predictor.append('N/A')\n",
    "        \n",
    "    df_out = pd.DataFrame({'Model': names, 'Train Acc': training_acc, \n",
    "                           \"Test Acc\": test_acc, 'Top Predictor': top_predictor,\n",
    "                          \"Best Params\": params})\n",
    "    return df_out"
   ]
  },
  {
   "cell_type": "code",
   "execution_count": 12,
   "metadata": {
    "ExecuteTime": {
     "end_time": "2020-05-19T22:37:46.148138Z",
     "start_time": "2020-05-19T18:49:50.946566Z"
    }
   },
   "outputs": [
    {
     "name": "stdout",
     "output_type": "stream",
     "text": [
      "LogisticRegression\n",
      "KNN\n",
      "SVM L1\n",
      "SVC RBF\n",
      "Decision Tree\n",
      "Random Forest\n",
      "GBM\n",
      "Ada Boost\n"
     ]
    },
    {
     "data": {
      "text/html": [
       "<div>\n",
       "<style scoped>\n",
       "    .dataframe tbody tr th:only-of-type {\n",
       "        vertical-align: middle;\n",
       "    }\n",
       "\n",
       "    .dataframe tbody tr th {\n",
       "        vertical-align: top;\n",
       "    }\n",
       "\n",
       "    .dataframe thead th {\n",
       "        text-align: right;\n",
       "    }\n",
       "</style>\n",
       "<table border=\"1\" class=\"dataframe\">\n",
       "  <thead>\n",
       "    <tr style=\"text-align: right;\">\n",
       "      <th></th>\n",
       "      <th>Model</th>\n",
       "      <th>Train Acc</th>\n",
       "      <th>Test Acc</th>\n",
       "      <th>Top Predictor</th>\n",
       "      <th>Best Params</th>\n",
       "    </tr>\n",
       "  </thead>\n",
       "  <tbody>\n",
       "    <tr>\n",
       "      <th>0</th>\n",
       "      <td>LogisticRegression</td>\n",
       "      <td>0.949749</td>\n",
       "      <td>0.953216</td>\n",
       "      <td>N/A</td>\n",
       "      <td>{'C': 10}</td>\n",
       "    </tr>\n",
       "    <tr>\n",
       "      <th>1</th>\n",
       "      <td>KNN</td>\n",
       "      <td>0.934673</td>\n",
       "      <td>0.964912</td>\n",
       "      <td>N/A</td>\n",
       "      <td>{'n_neighbors': 11}</td>\n",
       "    </tr>\n",
       "    <tr>\n",
       "      <th>2</th>\n",
       "      <td>SVM L1</td>\n",
       "      <td>0.962312</td>\n",
       "      <td>0.941520</td>\n",
       "      <td>N/A</td>\n",
       "      <td>{'C': 0.1}</td>\n",
       "    </tr>\n",
       "    <tr>\n",
       "      <th>3</th>\n",
       "      <td>SVC RBF</td>\n",
       "      <td>1.000000</td>\n",
       "      <td>0.631579</td>\n",
       "      <td>N/A</td>\n",
       "      <td>{'C': 10, 'gamma': 0.01}</td>\n",
       "    </tr>\n",
       "    <tr>\n",
       "      <th>4</th>\n",
       "      <td>Decision Tree</td>\n",
       "      <td>0.967337</td>\n",
       "      <td>0.935673</td>\n",
       "      <td>worst concave points</td>\n",
       "      <td>{'max_depth': 3}</td>\n",
       "    </tr>\n",
       "    <tr>\n",
       "      <th>5</th>\n",
       "      <td>Random Forest</td>\n",
       "      <td>1.000000</td>\n",
       "      <td>0.970760</td>\n",
       "      <td>worst concave points</td>\n",
       "      <td>{'max_depth': 8, 'max_features': 'auto', 'n_es...</td>\n",
       "    </tr>\n",
       "    <tr>\n",
       "      <th>6</th>\n",
       "      <td>GBM</td>\n",
       "      <td>1.000000</td>\n",
       "      <td>0.982456</td>\n",
       "      <td>perimeter error</td>\n",
       "      <td>{'learning_rate': 0.4, 'max_depth': 5, 'max_fe...</td>\n",
       "    </tr>\n",
       "    <tr>\n",
       "      <th>7</th>\n",
       "      <td>Ada Boost</td>\n",
       "      <td>1.000000</td>\n",
       "      <td>1.000000</td>\n",
       "      <td>worst texture</td>\n",
       "      <td>{'learning_rate': 1.9000000000000004, 'n_estim...</td>\n",
       "    </tr>\n",
       "  </tbody>\n",
       "</table>\n",
       "</div>"
      ],
      "text/plain": [
       "                Model  Train Acc  Test Acc         Top Predictor  \\\n",
       "0  LogisticRegression   0.949749  0.953216                   N/A   \n",
       "1                 KNN   0.934673  0.964912                   N/A   \n",
       "2              SVM L1   0.962312  0.941520                   N/A   \n",
       "3             SVC RBF   1.000000  0.631579                   N/A   \n",
       "4       Decision Tree   0.967337  0.935673  worst concave points   \n",
       "5       Random Forest   1.000000  0.970760  worst concave points   \n",
       "6                 GBM   1.000000  0.982456       perimeter error   \n",
       "7           Ada Boost   1.000000  1.000000         worst texture   \n",
       "\n",
       "                                         Best Params  \n",
       "0                                          {'C': 10}  \n",
       "1                                {'n_neighbors': 11}  \n",
       "2                                         {'C': 0.1}  \n",
       "3                           {'C': 10, 'gamma': 0.01}  \n",
       "4                                   {'max_depth': 3}  \n",
       "5  {'max_depth': 8, 'max_features': 'auto', 'n_es...  \n",
       "6  {'learning_rate': 0.4, 'max_depth': 5, 'max_fe...  \n",
       "7  {'learning_rate': 1.9000000000000004, 'n_estim...  "
      ]
     },
     "execution_count": 12,
     "metadata": {},
     "output_type": "execute_result"
    }
   ],
   "source": [
    "grid_search_all(df, 'target')"
   ]
  },
  {
   "cell_type": "markdown",
   "metadata": {},
   "source": [
    "# Model Scratch"
   ]
  },
  {
   "cell_type": "code",
   "execution_count": 13,
   "metadata": {
    "ExecuteTime": {
     "end_time": "2020-05-19T22:37:46.454467Z",
     "start_time": "2020-05-19T22:37:46.153088Z"
    }
   },
   "outputs": [
    {
     "data": {
      "text/plain": [
       "RandomForestClassifier()"
      ]
     },
     "execution_count": 13,
     "metadata": {},
     "output_type": "execute_result"
    }
   ],
   "source": [
    "model_data = split_scale(df, 'target', split_ratio=0.30, random_state=0,\n",
    "           stratify=False, scaler=None)\n",
    "\n",
    "model = RandomForestClassifier()\n",
    "model.fit(model_data['X_train'], model_data['y_train'])"
   ]
  },
  {
   "cell_type": "code",
   "execution_count": 14,
   "metadata": {
    "ExecuteTime": {
     "end_time": "2020-05-19T22:37:46.464441Z",
     "start_time": "2020-05-19T22:37:46.459456Z"
    }
   },
   "outputs": [],
   "source": [
    "model_out = GridSearchCV(model, param_grid = params_gs['Random Forest'], \n",
    "                         scoring = 'r2')"
   ]
  },
  {
   "cell_type": "code",
   "execution_count": 15,
   "metadata": {
    "ExecuteTime": {
     "end_time": "2020-05-19T22:46:20.075958Z",
     "start_time": "2020-05-19T22:37:46.469431Z"
    }
   },
   "outputs": [],
   "source": [
    "out = model_out.fit(model_data['X_train'], model_data['y_train'])"
   ]
  },
  {
   "cell_type": "code",
   "execution_count": 16,
   "metadata": {
    "ExecuteTime": {
     "end_time": "2020-05-19T22:46:20.092498Z",
     "start_time": "2020-05-19T22:46:20.087512Z"
    }
   },
   "outputs": [
    {
     "data": {
      "text/plain": [
       "{'max_depth': 9, 'max_features': 3, 'n_estimators': 500}"
      ]
     },
     "execution_count": 16,
     "metadata": {},
     "output_type": "execute_result"
    }
   ],
   "source": [
    "out.best_params_"
   ]
  },
  {
   "cell_type": "markdown",
   "metadata": {},
   "source": [
    "# Confusion Matrix"
   ]
  },
  {
   "cell_type": "code",
   "execution_count": 17,
   "metadata": {
    "ExecuteTime": {
     "end_time": "2020-05-19T22:46:20.368059Z",
     "start_time": "2020-05-19T22:46:20.096486Z"
    }
   },
   "outputs": [
    {
     "data": {
      "image/png": "[encoded data removed]",
      "text/plain": [
       "<Figure size 180x180 with 1 Axes>"
      ]
     },
     "metadata": {
      "needs_background": "light"
     },
     "output_type": "display_data"
    },
    {
     "name": "stdout",
     "output_type": "stream",
     "text": [
      "              precision    recall  f1-score   support\n",
      "\n",
      "           0       0.94      0.97      0.95        63\n",
      "           1       0.98      0.96      0.97       108\n",
      "\n",
      "    accuracy                           0.96       171\n",
      "   macro avg       0.96      0.97      0.96       171\n",
      "weighted avg       0.97      0.96      0.97       171\n",
      "\n"
     ]
    }
   ],
   "source": [
    "from sklearn.metrics import classification_report\n",
    "from sklearn.metrics import confusion_matrix\n",
    "\n",
    "y_pred = out.predict(model_data['X_test'])\n",
    "confmat = confusion_matrix(y_true=model_data['y_test'], y_pred=y_pred)\n",
    "\n",
    "y_pred = out.predict(model_data['X_test'])\n",
    "confmat = confusion_matrix(y_true=model_data['y_test'], y_pred=y_pred)\n",
    "\n",
    "fig, ax = plt.subplots(figsize=(2.5, 2.5))\n",
    "ax.matshow(confmat, cmap=plt.cm.Blues, alpha=0.3)\n",
    "for i in range(confmat.shape[0]):\n",
    "    for j in range(confmat.shape[1]):\n",
    "        ax.text(x=j, y=i, s=confmat[i, j], va='center', ha='center')\n",
    "plt.xlabel('predicted label')\n",
    "plt.ylabel('true label')\n",
    "plt.show()\n",
    "\n",
    "print(classification_report(model_data['y_test'], y_pred))"
   ]
  },
  {
   "cell_type": "markdown",
   "metadata": {},
   "source": [
    "# SHAP"
   ]
  },
  {
   "cell_type": "code",
   "execution_count": 18,
   "metadata": {
    "ExecuteTime": {
     "end_time": "2020-05-19T23:55:41.295966Z",
     "start_time": "2020-05-19T22:46:20.371052Z"
    }
   },
   "outputs": [
    {
     "name": "stderr",
     "output_type": "stream",
     "text": [
      "Using 398 background data samples could cause slower run times. Consider using shap.sample(data, K) or shap.kmeans(data, K) to summarize the background as K samples.\n"
     ]
    },
    {
     "data": {
      "application/vnd.jupyter.widget-view+json": {
       "model_id": "9b2d492a821244aea735ac34df44f556",
       "version_major": 2,
       "version_minor": 0
      },
      "text/plain": [
       "HBox(children=(IntProgress(value=0, max=398), HTML(value='')))"
      ]
     },
     "metadata": {},
     "output_type": "display_data"
    },
    {
     "name": "stdout",
     "output_type": "stream",
     "text": [
      "\n"
     ]
    }
   ],
   "source": [
    "shap_values = shap.KernelExplainer(model.predict, \n",
    "                                   model_data['X_train']).shap_values(model_data['X_train'])"
   ]
  },
  {
   "cell_type": "code",
   "execution_count": 19,
   "metadata": {
    "ExecuteTime": {
     "end_time": "2020-05-19T23:55:41.363786Z",
     "start_time": "2020-05-19T23:55:41.312928Z"
    }
   },
   "outputs": [],
   "source": [
    "def explain_model(df_shap, df, simplify=False):\n",
    "    #import matplotlib as plt\n",
    "    # Make a copy of the input data\n",
    "    shap_v = pd.DataFrame(df_shap)\n",
    "#     display(shap_v)\n",
    "    feature_list = df.columns\n",
    "    shap_v.columns = feature_list\n",
    "    df_v = df.copy().reset_index().drop('index',axis=1)\n",
    "    \n",
    "    # Determine the correlation in order to plot with different colors\n",
    "    corr_list = list()\n",
    "    for i in feature_list:\n",
    "        b = np.corrcoef(shap_v[i],df_v[i])[1][0]\n",
    "        corr_list.append(b)\n",
    "    corr_df = pd.concat([pd.Series(feature_list),pd.Series(corr_list)],axis=1).fillna(0)\n",
    "    # Make a data frame. Column 1 is the feature, and Column 2 is the correlation coefficient\n",
    "    corr_df.columns  = ['Variable','Corr']\n",
    "    corr_df['Sign'] = np.where(corr_df['Corr'] > 0,\n",
    "                               'red', 'blue')\n",
    "    \n",
    "    if simplify:\n",
    "        # Plot bar\n",
    "        shap_abs = np.abs(shap_v)\n",
    "        k=pd.DataFrame(shap_abs.mean()).reset_index()\n",
    "        k.columns = ['Variable','SHAP_abs']\n",
    "        k2 = k.merge(corr_df,left_on = 'Variable',right_on='Variable',how='inner')\n",
    "        k2 = k2.sort_values(by='SHAP_abs',ascending = True)\n",
    "        colorlist = k2['Sign']\n",
    "        ax = k2.plot.barh(x='Variable',y='SHAP_abs',color = colorlist, figsize=(8,6),legend=False)\n",
    "        ax.set_xlabel(\"SHAP Value (Red = Positive Impact)\")\n",
    "    else:\n",
    "        # Plot Summary\n",
    "        shap.summary_plot(shap_values, model_data['X_train'])"
   ]
  },
  {
   "cell_type": "code",
   "execution_count": 20,
   "metadata": {
    "ExecuteTime": {
     "end_time": "2020-05-19T23:55:42.295573Z",
     "start_time": "2020-05-19T23:55:41.382822Z"
    }
   },
   "outputs": [
    {
     "data": {
      "image/png": "[encoded data removed]",
      "text/plain": [
       "<Figure size 576x684 with 2 Axes>"
      ]
     },
     "metadata": {
      "needs_background": "light"
     },
     "output_type": "display_data"
    }
   ],
   "source": [
    "explain_model(shap_values, model_data['X_train'], False)"
   ]
  },
  {
   "cell_type": "code",
   "execution_count": 21,
   "metadata": {
    "ExecuteTime": {
     "end_time": "2020-05-20T00:16:31.446187Z",
     "start_time": "2020-05-20T00:16:31.077381Z"
    }
   },
   "outputs": [
    {
     "data": {
      "image/png": "[encoded data removed]",
      "text/plain": [
       "<Figure size 576x432 with 1 Axes>"
      ]
     },
     "metadata": {
      "needs_background": "light"
     },
     "output_type": "display_data"
    }
   ],
   "source": [
    "explain_model(shap_values, model_data['X_train'], True)"
   ]
  },
  {
   "cell_type": "code",
   "execution_count": null,
   "metadata": {},
   "outputs": [],
   "source": []
  }
 ],
 "metadata": {
  "kernelspec": {
   "display_name": "Python 3",
   "language": "python",
   "name": "python3"
  },
  "language_info": {
   "codemirror_mode": {
    "name": "ipython",
    "version": 3
   },
   "file_extension": ".py",
   "mimetype": "text/x-python",
   "name": "python",
   "nbconvert_exporter": "python",
   "pygments_lexer": "ipython3",
   "version": "3.7.1"
  },
  "varInspector": {
   "cols": {
    "lenName": 16,
    "lenType": 16,
    "lenVar": 40
   },
   "kernels_config": {
    "python": {
     "delete_cmd_postfix": "",
     "delete_cmd_prefix": "del ",
     "library": "var_list.py",
     "varRefreshCmd": "print(var_dic_list())"
    },
    "r": {
     "delete_cmd_postfix": ") ",
     "delete_cmd_prefix": "rm(",
     "library": "var_list.r",
     "varRefreshCmd": "cat(var_dic_list()) "
    }
   },
   "types_to_exclude": [
    "module",
    "function",
    "builtin_function_or_method",
    "instance",
    "_Feature"
   ],
   "window_display": false
  }
 },
 "nbformat": 4,
 "nbformat_minor": 2
}
